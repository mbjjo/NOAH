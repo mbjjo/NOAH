{
 "cells": [
  {
   "cell_type": "code",
   "execution_count": 4,
   "metadata": {},
   "outputs": [],
   "source": [
    "import swmmtoolbox.swmmtoolbox as swmmtoolbox\n",
    "import os\n",
    "import matplotlib.pyplot as plt\n",
    "SWMM_outfile = 'saved_output/ComparisonSWMM_pyswmm/Astlingen_SWMM.out'\n",
    "pyswmm_outfile = 'saved_output/ComparisonSWMM_pyswmm/Astlingen_pyswmm.out'\n",
    "\n",
    "# swmmtoolbox.about()\n",
    "\n"
   ]
  },
  {
   "cell_type": "code",
   "execution_count": 5,
   "metadata": {},
   "outputs": [
    {
     "data": {
      "text/plain": [
       "'C:\\\\Users\\\\magnu\\\\OneDrive\\\\DTU\\\\NOAH\\\\magnus'"
      ]
     },
     "execution_count": 5,
     "metadata": {},
     "output_type": "execute_result"
    }
   ],
   "source": [
    "os.getcwd()"
   ]
  },
  {
   "cell_type": "code",
   "execution_count": null,
   "metadata": {},
   "outputs": [],
   "source": []
  }
 ],
 "metadata": {
  "kernelspec": {
   "display_name": "Python 3",
   "language": "python",
   "name": "python3"
  },
  "language_info": {
   "codemirror_mode": {
    "name": "ipython",
    "version": 3
   },
   "file_extension": ".py",
   "mimetype": "text/x-python",
   "name": "python",
   "nbconvert_exporter": "python",
   "pygments_lexer": "ipython3",
   "version": "3.6.7"
  }
 },
 "nbformat": 4,
 "nbformat_minor": 4
}

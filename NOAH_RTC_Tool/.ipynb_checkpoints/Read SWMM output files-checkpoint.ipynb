{
 "cells": [
  {
   "cell_type": "markdown",
   "metadata": {},
   "source": [
    "## Read results from .out files generated from SWMM\n",
    "__[See documentation](https://timcera.bitbucket.io/swmmtoolbox/docsrc/index.html#swmmtoolbox-documentation)__"
   ]
  },
  {
   "cell_type": "code",
   "execution_count": 2,
   "metadata": {},
   "outputs": [],
   "source": [
    "import swmmtoolbox.swmmtoolbox as swmmtoolbox\n",
    "\n",
    "import matplotlib.pyplot as plt\n",
    "outfile = 'output/Rakvere.out'\n",
    "# swmmtoolbox.about()"
   ]
  },
  {
   "cell_type": "markdown",
   "metadata": {},
   "source": [
    "### listdetail\n",
    "_listdetail_ gives the details of one item in the system.  \n",
    "\n",
    "_itemtype_ can be one of 'node', 'link', or 'subcatchment' (Or 'system' according to the documentation) "
   ]
  },
  {
   "cell_type": "code",
   "execution_count": 2,
   "metadata": {},
   "outputs": [
    {
     "data": {
      "text/html": [
       "<div>\n",
       "<style scoped>\n",
       "    .dataframe tbody tr th:only-of-type {\n",
       "        vertical-align: middle;\n",
       "    }\n",
       "\n",
       "    .dataframe tbody tr th {\n",
       "        vertical-align: top;\n",
       "    }\n",
       "\n",
       "    .dataframe thead th {\n",
       "        text-align: right;\n",
       "    }\n",
       "</style>\n",
       "<table border=\"1\" class=\"dataframe\">\n",
       "  <thead>\n",
       "    <tr style=\"text-align: right;\">\n",
       "      <th></th>\n",
       "      <th>#Name</th>\n",
       "      <th>Type</th>\n",
       "      <th>Inv_elev</th>\n",
       "      <th>Max_depth</th>\n",
       "    </tr>\n",
       "  </thead>\n",
       "  <tbody>\n",
       "    <tr>\n",
       "      <td>0</td>\n",
       "      <td>mc1</td>\n",
       "      <td>Junction</td>\n",
       "      <td>70.0</td>\n",
       "      <td>2.0</td>\n",
       "    </tr>\n",
       "    <tr>\n",
       "      <td>1</td>\n",
       "      <td>mc2</td>\n",
       "      <td>Junction</td>\n",
       "      <td>70.0</td>\n",
       "      <td>2.0</td>\n",
       "    </tr>\n",
       "    <tr>\n",
       "      <td>2</td>\n",
       "      <td>mc3</td>\n",
       "      <td>Junction</td>\n",
       "      <td>69.0</td>\n",
       "      <td>2.0</td>\n",
       "    </tr>\n",
       "    <tr>\n",
       "      <td>3</td>\n",
       "      <td>N5</td>\n",
       "      <td>Junction</td>\n",
       "      <td>77.0</td>\n",
       "      <td>2.0</td>\n",
       "    </tr>\n",
       "    <tr>\n",
       "      <td>4</td>\n",
       "      <td>N6</td>\n",
       "      <td>Junction</td>\n",
       "      <td>75.0</td>\n",
       "      <td>2.0</td>\n",
       "    </tr>\n",
       "  </tbody>\n",
       "</table>\n",
       "</div>"
      ],
      "text/plain": [
       "  #Name      Type  Inv_elev  Max_depth\n",
       "0   mc1  Junction      70.0        2.0\n",
       "1   mc2  Junction      70.0        2.0\n",
       "2   mc3  Junction      69.0        2.0\n",
       "3    N5  Junction      77.0        2.0\n",
       "4    N6  Junction      75.0        2.0"
      ]
     },
     "execution_count": 2,
     "metadata": {},
     "output_type": "execute_result"
    }
   ],
   "source": [
    "swmmtoolbox.listdetail(outfile,itemtype = 'node').head()"
   ]
  },
  {
   "cell_type": "code",
   "execution_count": 3,
   "metadata": {},
   "outputs": [
    {
     "data": {
      "text/html": [
       "<div>\n",
       "<style scoped>\n",
       "    .dataframe tbody tr th:only-of-type {\n",
       "        vertical-align: middle;\n",
       "    }\n",
       "\n",
       "    .dataframe tbody tr th {\n",
       "        vertical-align: top;\n",
       "    }\n",
       "\n",
       "    .dataframe thead th {\n",
       "        text-align: right;\n",
       "    }\n",
       "</style>\n",
       "<table border=\"1\" class=\"dataframe\">\n",
       "  <thead>\n",
       "    <tr style=\"text-align: right;\">\n",
       "      <th></th>\n",
       "      <th>#Name</th>\n",
       "      <th>Type</th>\n",
       "      <th>Inv_offset</th>\n",
       "      <th>Inv_offset.1</th>\n",
       "      <th>Max_depth</th>\n",
       "      <th>Length</th>\n",
       "    </tr>\n",
       "  </thead>\n",
       "  <tbody>\n",
       "    <tr>\n",
       "      <td>0</td>\n",
       "      <td>link1</td>\n",
       "      <td>Conduit</td>\n",
       "      <td>0.0</td>\n",
       "      <td>0.0</td>\n",
       "      <td>0.50</td>\n",
       "      <td>350.0</td>\n",
       "    </tr>\n",
       "    <tr>\n",
       "      <td>1</td>\n",
       "      <td>CH12</td>\n",
       "      <td>Conduit</td>\n",
       "      <td>0.0</td>\n",
       "      <td>0.0</td>\n",
       "      <td>2.00</td>\n",
       "      <td>500.0</td>\n",
       "    </tr>\n",
       "    <tr>\n",
       "      <td>2</td>\n",
       "      <td>CH2st</td>\n",
       "      <td>Conduit</td>\n",
       "      <td>0.0</td>\n",
       "      <td>0.0</td>\n",
       "      <td>2.00</td>\n",
       "      <td>500.0</td>\n",
       "    </tr>\n",
       "    <tr>\n",
       "      <td>3</td>\n",
       "      <td>link3</td>\n",
       "      <td>Conduit</td>\n",
       "      <td>0.0</td>\n",
       "      <td>0.0</td>\n",
       "      <td>0.50</td>\n",
       "      <td>350.0</td>\n",
       "    </tr>\n",
       "    <tr>\n",
       "      <td>4</td>\n",
       "      <td>link2</td>\n",
       "      <td>Conduit</td>\n",
       "      <td>0.0</td>\n",
       "      <td>0.0</td>\n",
       "      <td>0.45</td>\n",
       "      <td>300.0</td>\n",
       "    </tr>\n",
       "  </tbody>\n",
       "</table>\n",
       "</div>"
      ],
      "text/plain": [
       "   #Name     Type  Inv_offset  Inv_offset.1  Max_depth  Length\n",
       "0  link1  Conduit         0.0           0.0       0.50   350.0\n",
       "1   CH12  Conduit         0.0           0.0       2.00   500.0\n",
       "2  CH2st  Conduit         0.0           0.0       2.00   500.0\n",
       "3  link3  Conduit         0.0           0.0       0.50   350.0\n",
       "4  link2  Conduit         0.0           0.0       0.45   300.0"
      ]
     },
     "execution_count": 3,
     "metadata": {},
     "output_type": "execute_result"
    }
   ],
   "source": [
    "swmmtoolbox.listdetail(outfile,itemtype = 'link').head()"
   ]
  },
  {
   "cell_type": "code",
   "execution_count": 4,
   "metadata": {},
   "outputs": [
    {
     "data": {
      "text/html": [
       "<div>\n",
       "<style scoped>\n",
       "    .dataframe tbody tr th:only-of-type {\n",
       "        vertical-align: middle;\n",
       "    }\n",
       "\n",
       "    .dataframe tbody tr th {\n",
       "        vertical-align: top;\n",
       "    }\n",
       "\n",
       "    .dataframe thead th {\n",
       "        text-align: right;\n",
       "    }\n",
       "</style>\n",
       "<table border=\"1\" class=\"dataframe\">\n",
       "  <thead>\n",
       "    <tr style=\"text-align: right;\">\n",
       "      <th></th>\n",
       "      <th>#Name</th>\n",
       "      <th>Area</th>\n",
       "    </tr>\n",
       "  </thead>\n",
       "  <tbody>\n",
       "    <tr>\n",
       "      <td>0</td>\n",
       "      <td>sub1</td>\n",
       "      <td>30.0</td>\n",
       "    </tr>\n",
       "    <tr>\n",
       "      <td>1</td>\n",
       "      <td>sub2</td>\n",
       "      <td>20.0</td>\n",
       "    </tr>\n",
       "    <tr>\n",
       "      <td>2</td>\n",
       "      <td>sub3</td>\n",
       "      <td>36.0</td>\n",
       "    </tr>\n",
       "    <tr>\n",
       "      <td>3</td>\n",
       "      <td>sub4</td>\n",
       "      <td>45.0</td>\n",
       "    </tr>\n",
       "    <tr>\n",
       "      <td>4</td>\n",
       "      <td>sub5</td>\n",
       "      <td>23.0</td>\n",
       "    </tr>\n",
       "  </tbody>\n",
       "</table>\n",
       "</div>"
      ],
      "text/plain": [
       "  #Name  Area\n",
       "0  sub1  30.0\n",
       "1  sub2  20.0\n",
       "2  sub3  36.0\n",
       "3  sub4  45.0\n",
       "4  sub5  23.0"
      ]
     },
     "execution_count": 4,
     "metadata": {},
     "output_type": "execute_result"
    }
   ],
   "source": [
    "swmmtoolbox.listdetail(outfile,itemtype = 'subcatchment').head()"
   ]
  },
  {
   "cell_type": "code",
   "execution_count": null,
   "metadata": {},
   "outputs": [],
   "source": []
  },
  {
   "cell_type": "markdown",
   "metadata": {},
   "source": [
    "### listvariables\n",
    "List the availbale varables for each type"
   ]
  },
  {
   "cell_type": "code",
   "execution_count": 5,
   "metadata": {
    "scrolled": true
   },
   "outputs": [
    {
     "data": {
      "text/plain": [
       "[['subcatchment', 'Rainfall', '0'],\n",
       " ['subcatchment', 'Snow_depth', '1'],\n",
       " ['subcatchment', 'Evaporation_loss', '2'],\n",
       " ['subcatchment', 'Infiltration_loss', '3'],\n",
       " ['subcatchment', 'Runoff_rate', '4'],\n",
       " ['subcatchment', 'Groundwater_outflow', '5'],\n",
       " ['subcatchment', 'Groundwater_elevation', '6'],\n",
       " ['subcatchment', 'Soil_moisture', '7'],\n",
       " ['node', 'Depth_above_invert', '0'],\n",
       " ['node', 'Hydraulic_head', '1'],\n",
       " ['node', 'Volume_stored_ponded', '2'],\n",
       " ['node', 'Lateral_inflow', '3'],\n",
       " ['node', 'Total_inflow', '4'],\n",
       " ['node', 'Flow_lost_flooding', '5'],\n",
       " ['link', 'Flow_rate', '0'],\n",
       " ['link', 'Flow_depth', '1'],\n",
       " ['link', 'Flow_velocity', '2'],\n",
       " ['link', 'Froude_number', '3'],\n",
       " ['link', 'Capacity', '4'],\n",
       " ['system', 'Air_temperature', '0'],\n",
       " ['system', 'Rainfall', '1'],\n",
       " ['system', 'Snow_depth', '2'],\n",
       " ['system', 'Evaporation_infiltration', '3'],\n",
       " ['system', 'Runoff', '4'],\n",
       " ['system', 'Dry_weather_inflow', '5'],\n",
       " ['system', 'Groundwater_inflow', '6'],\n",
       " ['system', 'RDII_inflow', '7'],\n",
       " ['system', 'User_direct_inflow', '8'],\n",
       " ['system', 'Total_lateral_inflow', '9'],\n",
       " ['system', 'Flow_lost_to_flooding', '10'],\n",
       " ['system', 'Flow_leaving_outfalls', '11'],\n",
       " ['system', 'Volume_stored_water', '12'],\n",
       " ['system', 'Evaporation_rate', '13'],\n",
       " ['system', 'Potential_PET', '14']]"
      ]
     },
     "execution_count": 5,
     "metadata": {},
     "output_type": "execute_result"
    }
   ],
   "source": [
    "swmmtoolbox.listvariables(outfile)"
   ]
  },
  {
   "cell_type": "markdown",
   "metadata": {},
   "source": [
    "### extract\n",
    "Creates timeseries for the chosen item. The format is: <br>\n",
    "```swmmtoolbox.extract(filename,['TYPE','NAME','VAR'])```\n",
    "\n",
    "_listvariables_ (see above) can be used to see available varaibles\n",
    "\n",
    "A list with all available labels can be seen using:\n",
    "\n",
    "`swmmtoolbox.catalog(filename)`"
   ]
  },
  {
   "cell_type": "code",
   "execution_count": 6,
   "metadata": {},
   "outputs": [
    {
     "name": "stderr",
     "output_type": "stream",
     "text": [
      "C:\\Users\\magnu\\AppData\\Local\\Continuum\\anaconda3\\envs\\NOAH\\lib\\site-packages\\swmmtoolbox\\swmmtoolbox.py:800: FutureWarning: The join_axes-keyword is deprecated. Use .reindex or .reindex_like on the result to achieve the same functionality.\n",
      "  result = pd.concat(jtsd, axis=1, join_axes=[jtsd[0].index])\n"
     ]
    },
    {
     "data": {
      "text/html": [
       "<div>\n",
       "<style scoped>\n",
       "    .dataframe tbody tr th:only-of-type {\n",
       "        vertical-align: middle;\n",
       "    }\n",
       "\n",
       "    .dataframe tbody tr th {\n",
       "        vertical-align: top;\n",
       "    }\n",
       "\n",
       "    .dataframe thead th {\n",
       "        text-align: right;\n",
       "    }\n",
       "</style>\n",
       "<table border=\"1\" class=\"dataframe\">\n",
       "  <thead>\n",
       "    <tr style=\"text-align: right;\">\n",
       "      <th></th>\n",
       "      <th>node_mc1_Total_inflow</th>\n",
       "    </tr>\n",
       "  </thead>\n",
       "  <tbody>\n",
       "    <tr>\n",
       "      <td>2019-01-01 00:00:30</td>\n",
       "      <td>0.485322</td>\n",
       "    </tr>\n",
       "    <tr>\n",
       "      <td>2019-01-01 00:01:00</td>\n",
       "      <td>0.485083</td>\n",
       "    </tr>\n",
       "    <tr>\n",
       "      <td>2019-01-01 00:01:30</td>\n",
       "      <td>0.484852</td>\n",
       "    </tr>\n",
       "    <tr>\n",
       "      <td>2019-01-01 00:02:00</td>\n",
       "      <td>0.484660</td>\n",
       "    </tr>\n",
       "    <tr>\n",
       "      <td>2019-01-01 00:02:30</td>\n",
       "      <td>0.484484</td>\n",
       "    </tr>\n",
       "  </tbody>\n",
       "</table>\n",
       "</div>"
      ],
      "text/plain": [
       "                     node_mc1_Total_inflow\n",
       "2019-01-01 00:00:30               0.485322\n",
       "2019-01-01 00:01:00               0.485083\n",
       "2019-01-01 00:01:30               0.484852\n",
       "2019-01-01 00:02:00               0.484660\n",
       "2019-01-01 00:02:30               0.484484"
      ]
     },
     "execution_count": 6,
     "metadata": {},
     "output_type": "execute_result"
    }
   ],
   "source": [
    "swmmtoolbox.extract(outfile,['node','mc1','Total_inflow']).head()"
   ]
  },
  {
   "cell_type": "markdown",
   "metadata": {},
   "source": [
    "Several timeseries can be shown by adding several lists to the labels parameter:"
   ]
  },
  {
   "cell_type": "code",
   "execution_count": 7,
   "metadata": {
    "scrolled": true
   },
   "outputs": [
    {
     "data": {
      "text/html": [
       "<div>\n",
       "<style scoped>\n",
       "    .dataframe tbody tr th:only-of-type {\n",
       "        vertical-align: middle;\n",
       "    }\n",
       "\n",
       "    .dataframe tbody tr th {\n",
       "        vertical-align: top;\n",
       "    }\n",
       "\n",
       "    .dataframe thead th {\n",
       "        text-align: right;\n",
       "    }\n",
       "</style>\n",
       "<table border=\"1\" class=\"dataframe\">\n",
       "  <thead>\n",
       "    <tr style=\"text-align: right;\">\n",
       "      <th></th>\n",
       "      <th>node_mc1_Total_inflow</th>\n",
       "      <th>node_mc2_Total_inflow</th>\n",
       "    </tr>\n",
       "  </thead>\n",
       "  <tbody>\n",
       "    <tr>\n",
       "      <td>2019-01-01 00:00:30</td>\n",
       "      <td>0.485322</td>\n",
       "      <td>0.004415</td>\n",
       "    </tr>\n",
       "    <tr>\n",
       "      <td>2019-01-01 00:01:00</td>\n",
       "      <td>0.485083</td>\n",
       "      <td>0.010256</td>\n",
       "    </tr>\n",
       "    <tr>\n",
       "      <td>2019-01-01 00:01:30</td>\n",
       "      <td>0.484852</td>\n",
       "      <td>0.018727</td>\n",
       "    </tr>\n",
       "    <tr>\n",
       "      <td>2019-01-01 00:02:00</td>\n",
       "      <td>0.484660</td>\n",
       "      <td>0.029319</td>\n",
       "    </tr>\n",
       "    <tr>\n",
       "      <td>2019-01-01 00:02:30</td>\n",
       "      <td>0.484484</td>\n",
       "      <td>0.043593</td>\n",
       "    </tr>\n",
       "  </tbody>\n",
       "</table>\n",
       "</div>"
      ],
      "text/plain": [
       "                     node_mc1_Total_inflow  node_mc2_Total_inflow\n",
       "2019-01-01 00:00:30               0.485322               0.004415\n",
       "2019-01-01 00:01:00               0.485083               0.010256\n",
       "2019-01-01 00:01:30               0.484852               0.018727\n",
       "2019-01-01 00:02:00               0.484660               0.029319\n",
       "2019-01-01 00:02:30               0.484484               0.043593"
      ]
     },
     "execution_count": 7,
     "metadata": {},
     "output_type": "execute_result"
    }
   ],
   "source": [
    "swmmtoolbox.extract(outfile,['node','mc1','Total_inflow'],['node','mc2','Total_inflow']).head()"
   ]
  },
  {
   "cell_type": "markdown",
   "metadata": {},
   "source": [
    "Or by using wildcards which are just empty strings:"
   ]
  },
  {
   "cell_type": "code",
   "execution_count": 8,
   "metadata": {},
   "outputs": [
    {
     "data": {
      "text/html": [
       "<div>\n",
       "<style scoped>\n",
       "    .dataframe tbody tr th:only-of-type {\n",
       "        vertical-align: middle;\n",
       "    }\n",
       "\n",
       "    .dataframe tbody tr th {\n",
       "        vertical-align: top;\n",
       "    }\n",
       "\n",
       "    .dataframe thead th {\n",
       "        text-align: right;\n",
       "    }\n",
       "</style>\n",
       "<table border=\"1\" class=\"dataframe\">\n",
       "  <thead>\n",
       "    <tr style=\"text-align: right;\">\n",
       "      <th></th>\n",
       "      <th>node_mc1_Total_inflow</th>\n",
       "      <th>node_mc2_Total_inflow</th>\n",
       "      <th>node_mc3_Total_inflow</th>\n",
       "      <th>node_N5_Total_inflow</th>\n",
       "      <th>node_N6_Total_inflow</th>\n",
       "      <th>node_ch2_Total_inflow</th>\n",
       "      <th>node_N3_Total_inflow</th>\n",
       "      <th>node_N2_Total_inflow</th>\n",
       "      <th>node_N1_Total_inflow</th>\n",
       "      <th>node_ch1_Total_inflow</th>\n",
       "      <th>node_N4_Total_inflow</th>\n",
       "      <th>node_N7_Total_inflow</th>\n",
       "      <th>node_out1_Total_inflow</th>\n",
       "      <th>node_st1_Total_inflow</th>\n",
       "    </tr>\n",
       "  </thead>\n",
       "  <tbody>\n",
       "    <tr>\n",
       "      <td>2019-01-01 00:00:30</td>\n",
       "      <td>0.485322</td>\n",
       "      <td>0.004415</td>\n",
       "      <td>0.000072</td>\n",
       "      <td>0.000017</td>\n",
       "      <td>0.000017</td>\n",
       "      <td>0.000000</td>\n",
       "      <td>0.000017</td>\n",
       "      <td>0.000016</td>\n",
       "      <td>0.000017</td>\n",
       "      <td>0.000000</td>\n",
       "      <td>0.000017</td>\n",
       "      <td>0.000016</td>\n",
       "      <td>0.000000e+00</td>\n",
       "      <td>0.000000</td>\n",
       "    </tr>\n",
       "    <tr>\n",
       "      <td>2019-01-01 00:01:00</td>\n",
       "      <td>0.485083</td>\n",
       "      <td>0.010256</td>\n",
       "      <td>0.000212</td>\n",
       "      <td>0.001983</td>\n",
       "      <td>0.001985</td>\n",
       "      <td>0.000489</td>\n",
       "      <td>0.001982</td>\n",
       "      <td>0.001979</td>\n",
       "      <td>0.001983</td>\n",
       "      <td>0.000267</td>\n",
       "      <td>0.001986</td>\n",
       "      <td>0.001973</td>\n",
       "      <td>2.300029e-08</td>\n",
       "      <td>0.000002</td>\n",
       "    </tr>\n",
       "    <tr>\n",
       "      <td>2019-01-01 00:01:30</td>\n",
       "      <td>0.484852</td>\n",
       "      <td>0.018727</td>\n",
       "      <td>0.000285</td>\n",
       "      <td>0.002061</td>\n",
       "      <td>0.002063</td>\n",
       "      <td>0.000324</td>\n",
       "      <td>0.002060</td>\n",
       "      <td>0.002056</td>\n",
       "      <td>0.002061</td>\n",
       "      <td>0.000124</td>\n",
       "      <td>0.002065</td>\n",
       "      <td>0.002050</td>\n",
       "      <td>4.468193e-08</td>\n",
       "      <td>0.000008</td>\n",
       "    </tr>\n",
       "    <tr>\n",
       "      <td>2019-01-01 00:02:00</td>\n",
       "      <td>0.484660</td>\n",
       "      <td>0.029319</td>\n",
       "      <td>0.000770</td>\n",
       "      <td>0.007361</td>\n",
       "      <td>0.007388</td>\n",
       "      <td>0.000733</td>\n",
       "      <td>0.007355</td>\n",
       "      <td>0.007307</td>\n",
       "      <td>0.007364</td>\n",
       "      <td>0.000343</td>\n",
       "      <td>0.007409</td>\n",
       "      <td>0.007235</td>\n",
       "      <td>8.087578e-08</td>\n",
       "      <td>0.000030</td>\n",
       "    </tr>\n",
       "    <tr>\n",
       "      <td>2019-01-01 00:02:30</td>\n",
       "      <td>0.484484</td>\n",
       "      <td>0.043593</td>\n",
       "      <td>0.001724</td>\n",
       "      <td>0.007514</td>\n",
       "      <td>0.007543</td>\n",
       "      <td>0.001648</td>\n",
       "      <td>0.007509</td>\n",
       "      <td>0.007459</td>\n",
       "      <td>0.007518</td>\n",
       "      <td>0.000868</td>\n",
       "      <td>0.007565</td>\n",
       "      <td>0.007383</td>\n",
       "      <td>1.959700e-07</td>\n",
       "      <td>0.000092</td>\n",
       "    </tr>\n",
       "  </tbody>\n",
       "</table>\n",
       "</div>"
      ],
      "text/plain": [
       "                     node_mc1_Total_inflow  node_mc2_Total_inflow  \\\n",
       "2019-01-01 00:00:30               0.485322               0.004415   \n",
       "2019-01-01 00:01:00               0.485083               0.010256   \n",
       "2019-01-01 00:01:30               0.484852               0.018727   \n",
       "2019-01-01 00:02:00               0.484660               0.029319   \n",
       "2019-01-01 00:02:30               0.484484               0.043593   \n",
       "\n",
       "                     node_mc3_Total_inflow  node_N5_Total_inflow  \\\n",
       "2019-01-01 00:00:30               0.000072              0.000017   \n",
       "2019-01-01 00:01:00               0.000212              0.001983   \n",
       "2019-01-01 00:01:30               0.000285              0.002061   \n",
       "2019-01-01 00:02:00               0.000770              0.007361   \n",
       "2019-01-01 00:02:30               0.001724              0.007514   \n",
       "\n",
       "                     node_N6_Total_inflow  node_ch2_Total_inflow  \\\n",
       "2019-01-01 00:00:30              0.000017               0.000000   \n",
       "2019-01-01 00:01:00              0.001985               0.000489   \n",
       "2019-01-01 00:01:30              0.002063               0.000324   \n",
       "2019-01-01 00:02:00              0.007388               0.000733   \n",
       "2019-01-01 00:02:30              0.007543               0.001648   \n",
       "\n",
       "                     node_N3_Total_inflow  node_N2_Total_inflow  \\\n",
       "2019-01-01 00:00:30              0.000017              0.000016   \n",
       "2019-01-01 00:01:00              0.001982              0.001979   \n",
       "2019-01-01 00:01:30              0.002060              0.002056   \n",
       "2019-01-01 00:02:00              0.007355              0.007307   \n",
       "2019-01-01 00:02:30              0.007509              0.007459   \n",
       "\n",
       "                     node_N1_Total_inflow  node_ch1_Total_inflow  \\\n",
       "2019-01-01 00:00:30              0.000017               0.000000   \n",
       "2019-01-01 00:01:00              0.001983               0.000267   \n",
       "2019-01-01 00:01:30              0.002061               0.000124   \n",
       "2019-01-01 00:02:00              0.007364               0.000343   \n",
       "2019-01-01 00:02:30              0.007518               0.000868   \n",
       "\n",
       "                     node_N4_Total_inflow  node_N7_Total_inflow  \\\n",
       "2019-01-01 00:00:30              0.000017              0.000016   \n",
       "2019-01-01 00:01:00              0.001986              0.001973   \n",
       "2019-01-01 00:01:30              0.002065              0.002050   \n",
       "2019-01-01 00:02:00              0.007409              0.007235   \n",
       "2019-01-01 00:02:30              0.007565              0.007383   \n",
       "\n",
       "                     node_out1_Total_inflow  node_st1_Total_inflow  \n",
       "2019-01-01 00:00:30            0.000000e+00               0.000000  \n",
       "2019-01-01 00:01:00            2.300029e-08               0.000002  \n",
       "2019-01-01 00:01:30            4.468193e-08               0.000008  \n",
       "2019-01-01 00:02:00            8.087578e-08               0.000030  \n",
       "2019-01-01 00:02:30            1.959700e-07               0.000092  "
      ]
     },
     "execution_count": 8,
     "metadata": {},
     "output_type": "execute_result"
    }
   ],
   "source": [
    "swmmtoolbox.extract(outfile,['node','','Total_inflow']).head()"
   ]
  },
  {
   "cell_type": "markdown",
   "metadata": {},
   "source": [
    "Data is plotted using matplotlib"
   ]
  },
  {
   "cell_type": "code",
   "execution_count": 9,
   "metadata": {},
   "outputs": [
    {
     "name": "stderr",
     "output_type": "stream",
     "text": [
      "C:\\Users\\magnu\\AppData\\Local\\Continuum\\anaconda3\\envs\\NOAH\\lib\\site-packages\\pandas\\plotting\\_matplotlib\\converter.py:103: FutureWarning: Using an implicitly registered datetime converter for a matplotlib plotting method. The converter was registered by pandas on import. Future versions of pandas will require you to explicitly register matplotlib converters.\n",
      "\n",
      "To register the converters:\n",
      "\t>>> from pandas.plotting import register_matplotlib_converters\n",
      "\t>>> register_matplotlib_converters()\n",
      "  warnings.warn(msg, FutureWarning)\n"
     ]
    },
    {
     "data": {
      "image/png": "[encoded data removed]",
      "text/plain": [
       "<Figure size 432x288 with 1 Axes>"
      ]
     },
     "metadata": {
      "needs_background": "light"
     },
     "output_type": "display_data"
    }
   ],
   "source": [
    "import matplotlib.pyplot as plt\n",
    "data = swmmtoolbox.extract(outfile,['node','mc1','Total_inflow'])\n",
    "plt.plot(data)\n",
    "plt.legend(data.columns,loc='upper left', bbox_to_anchor=(1, 1))\n",
    "plt.show()"
   ]
  },
  {
   "cell_type": "code",
   "execution_count": 10,
   "metadata": {},
   "outputs": [
    {
     "data": {
      "image/png": "[encoded data removed]",
      "text/plain": [
       "<Figure size 432x288 with 1 Axes>"
      ]
     },
     "metadata": {
      "needs_background": "light"
     },
     "output_type": "display_data"
    }
   ],
   "source": [
    "data = swmmtoolbox.extract(outfile,['node','','Total_inflow'])\n",
    "plt.plot(data)\n",
    "plt.legend(data.columns,loc='upper left', bbox_to_anchor=(1, 1))\n",
    "plt.show()"
   ]
  },
  {
   "cell_type": "code",
   "execution_count": null,
   "metadata": {},
   "outputs": [],
   "source": []
  },
  {
   "cell_type": "code",
   "execution_count": null,
   "metadata": {},
   "outputs": [],
   "source": []
  },
  {
   "cell_type": "code",
   "execution_count": null,
   "metadata": {},
   "outputs": [],
   "source": []
  }
 ],
 "metadata": {
  "kernelspec": {
   "display_name": "Python 3",
   "language": "python",
   "name": "python3"
  },
  "language_info": {
   "codemirror_mode": {
    "name": "ipython",
    "version": 3
   },
   "file_extension": ".py",
   "mimetype": "text/x-python",
   "name": "python",
   "nbconvert_exporter": "python",
   "pygments_lexer": "ipython3",
   "version": "3.6.7"
  }
 },
 "nbformat": 4,
 "nbformat_minor": 2
}

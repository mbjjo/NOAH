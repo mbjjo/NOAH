{
 "cells": [
  {
   "cell_type": "markdown",
   "metadata": {},
   "source": [
    "This documents shows how to see the results from the simulations and optimizations done by the NOAH RTC Tool. "
   ]
  },
  {
   "cell_type": "code",
   "execution_count": 1,
   "metadata": {},
   "outputs": [],
   "source": [
    "import swmmtoolbox.swmmtoolbox as swmmtoolbox\n",
    "import matplotlib.pyplot as plt\n",
    "import numpy as np\n",
    "import pandas as pd\n",
    "import pickle"
   ]
  },
  {
   "cell_type": "markdown",
   "metadata": {},
   "source": [
    "In the following the parameters needed to show the results are defined. "
   ]
  },
  {
   "cell_type": "code",
   "execution_count": 2,
   "metadata": {},
   "outputs": [],
   "source": [
    "CSO_ids = ['T1','T3','T6'] # The CSO'ids that are to be shown. These should be the same as the ones used for the objective function in the optimization. \n",
    "outfile = 'Astlingen.out' # The output file with the results\n",
    "timesteps = 5*60 # The length of the time steps in seconds This requires that all timesteps have same length.\n",
    "variable = 'Flow_lost_flooding' # The variable to be plotted. For more options see: \n",
    "# swmmtoolbox.listvariables(outfile)"
   ]
  },
  {
   "cell_type": "markdown",
   "metadata": {},
   "source": [
    "## Reading .pickle file"
   ]
  },
  {
   "cell_type": "code",
   "execution_count": 3,
   "metadata": {},
   "outputs": [
    {
     "data": {
      "text/html": [
       "<div>\n",
       "<style scoped>\n",
       "    .dataframe tbody tr th:only-of-type {\n",
       "        vertical-align: middle;\n",
       "    }\n",
       "\n",
       "    .dataframe tbody tr th {\n",
       "        vertical-align: top;\n",
       "    }\n",
       "\n",
       "    .dataframe thead th {\n",
       "        text-align: right;\n",
       "    }\n",
       "</style>\n",
       "<table border=\"1\" class=\"dataframe\">\n",
       "  <thead>\n",
       "    <tr style=\"text-align: right;\">\n",
       "      <th></th>\n",
       "      <th>starting points</th>\n",
       "      <th>objective values</th>\n",
       "    </tr>\n",
       "  </thead>\n",
       "  <tbody>\n",
       "    <tr>\n",
       "      <td>0</td>\n",
       "      <td>0.0</td>\n",
       "      <td>366806.876710</td>\n",
       "    </tr>\n",
       "    <tr>\n",
       "      <td>1</td>\n",
       "      <td>0.6</td>\n",
       "      <td>158133.758869</td>\n",
       "    </tr>\n",
       "    <tr>\n",
       "      <td>2</td>\n",
       "      <td>1.2</td>\n",
       "      <td>117871.300752</td>\n",
       "    </tr>\n",
       "    <tr>\n",
       "      <td>3</td>\n",
       "      <td>1.8</td>\n",
       "      <td>100592.977631</td>\n",
       "    </tr>\n",
       "    <tr>\n",
       "      <td>4</td>\n",
       "      <td>2.4</td>\n",
       "      <td>89990.053683</td>\n",
       "    </tr>\n",
       "    <tr>\n",
       "      <td>5</td>\n",
       "      <td>3.0</td>\n",
       "      <td>82939.997857</td>\n",
       "    </tr>\n",
       "    <tr>\n",
       "      <td>6</td>\n",
       "      <td>3.6</td>\n",
       "      <td>77083.434956</td>\n",
       "    </tr>\n",
       "    <tr>\n",
       "      <td>7</td>\n",
       "      <td>4.2</td>\n",
       "      <td>73404.892604</td>\n",
       "    </tr>\n",
       "    <tr>\n",
       "      <td>8</td>\n",
       "      <td>4.8</td>\n",
       "      <td>69290.231407</td>\n",
       "    </tr>\n",
       "    <tr>\n",
       "      <td>9</td>\n",
       "      <td>5.4</td>\n",
       "      <td>77803.027641</td>\n",
       "    </tr>\n",
       "  </tbody>\n",
       "</table>\n",
       "</div>"
      ],
      "text/plain": [
       "   starting points  objective values\n",
       "0              0.0     366806.876710\n",
       "1              0.6     158133.758869\n",
       "2              1.2     117871.300752\n",
       "3              1.8     100592.977631\n",
       "4              2.4      89990.053683\n",
       "5              3.0      82939.997857\n",
       "6              3.6      77083.434956\n",
       "7              4.2      73404.892604\n",
       "8              4.8      69290.231407\n",
       "9              5.4      77803.027641"
      ]
     },
     "execution_count": 3,
     "metadata": {},
     "output_type": "execute_result"
    }
   ],
   "source": [
    "import pickle\n",
    "import pandas as pd\n",
    "import matplotlib.pyplot as plt\n",
    "pickle_in = open(\"First_step_simulations.pickle\",\"rb\")\n",
    "df = pickle.load(pickle_in)\n",
    "df"
   ]
  },
  {
   "cell_type": "code",
   "execution_count": 4,
   "metadata": {
    "scrolled": false
   },
   "outputs": [
    {
     "data": {
      "image/png": "[encoded data removed]",
      "text/plain": [
       "<Figure size 720x432 with 1 Axes>"
      ]
     },
     "metadata": {
      "needs_background": "light"
     },
     "output_type": "display_data"
    }
   ],
   "source": [
    "size = 14 # fontsize\n",
    "\n",
    "plt.figure(figsize = (10,6))\n",
    "plt.plot(df['starting points'],df['objective values'])\n",
    "plt.title('Results of first step of the optimization',fontsize = size+2)\n",
    "plt.xlabel('starting points',fontsize = size)\n",
    "plt.xticks(fontsize = size-2)\n",
    "plt.ylabel('Objective value',fontsize = size)\n",
    "plt.yticks(fontsize = size-2)\n",
    "# plt.legend()\n",
    "plt.show()"
   ]
  },
  {
   "cell_type": "markdown",
   "metadata": {},
   "source": [
    "## Showing time series of the simulation from the .out file"
   ]
  },
  {
   "cell_type": "code",
   "execution_count": 5,
   "metadata": {},
   "outputs": [
    {
     "name": "stderr",
     "output_type": "stream",
     "text": [
      "C:\\Users\\magnu\\AppData\\Local\\Continuum\\anaconda3\\envs\\NOAH\\lib\\site-packages\\swmmtoolbox\\swmmtoolbox.py:800: FutureWarning: The join_axes-keyword is deprecated. Use .reindex or .reindex_like on the result to achieve the same functionality.\n",
      "  result = pd.concat(jtsd, axis=1, join_axes=[jtsd[0].index])\n"
     ]
    },
    {
     "data": {
      "text/html": [
       "<div>\n",
       "<style scoped>\n",
       "    .dataframe tbody tr th:only-of-type {\n",
       "        vertical-align: middle;\n",
       "    }\n",
       "\n",
       "    .dataframe tbody tr th {\n",
       "        vertical-align: top;\n",
       "    }\n",
       "\n",
       "    .dataframe thead th {\n",
       "        text-align: right;\n",
       "    }\n",
       "</style>\n",
       "<table border=\"1\" class=\"dataframe\">\n",
       "  <thead>\n",
       "    <tr style=\"text-align: right;\">\n",
       "      <th></th>\n",
       "      <th>node_T1_Flow_lost_flooding</th>\n",
       "      <th>node_T3_Flow_lost_flooding</th>\n",
       "      <th>node_T6_Flow_lost_flooding</th>\n",
       "    </tr>\n",
       "  </thead>\n",
       "  <tbody>\n",
       "    <tr>\n",
       "      <td>2000-05-01 00:05:00</td>\n",
       "      <td>0.0</td>\n",
       "      <td>0.0</td>\n",
       "      <td>0.0</td>\n",
       "    </tr>\n",
       "    <tr>\n",
       "      <td>2000-05-01 00:10:00</td>\n",
       "      <td>0.0</td>\n",
       "      <td>0.0</td>\n",
       "      <td>0.0</td>\n",
       "    </tr>\n",
       "    <tr>\n",
       "      <td>2000-05-01 00:15:00</td>\n",
       "      <td>0.0</td>\n",
       "      <td>0.0</td>\n",
       "      <td>0.0</td>\n",
       "    </tr>\n",
       "    <tr>\n",
       "      <td>2000-05-01 00:20:00</td>\n",
       "      <td>0.0</td>\n",
       "      <td>0.0</td>\n",
       "      <td>0.0</td>\n",
       "    </tr>\n",
       "    <tr>\n",
       "      <td>2000-05-01 00:25:00</td>\n",
       "      <td>0.0</td>\n",
       "      <td>0.0</td>\n",
       "      <td>0.0</td>\n",
       "    </tr>\n",
       "  </tbody>\n",
       "</table>\n",
       "</div>"
      ],
      "text/plain": [
       "                     node_T1_Flow_lost_flooding  node_T3_Flow_lost_flooding  \\\n",
       "2000-05-01 00:05:00                         0.0                         0.0   \n",
       "2000-05-01 00:10:00                         0.0                         0.0   \n",
       "2000-05-01 00:15:00                         0.0                         0.0   \n",
       "2000-05-01 00:20:00                         0.0                         0.0   \n",
       "2000-05-01 00:25:00                         0.0                         0.0   \n",
       "\n",
       "                     node_T6_Flow_lost_flooding  \n",
       "2000-05-01 00:05:00                         0.0  \n",
       "2000-05-01 00:10:00                         0.0  \n",
       "2000-05-01 00:15:00                         0.0  \n",
       "2000-05-01 00:20:00                         0.0  \n",
       "2000-05-01 00:25:00                         0.0  "
      ]
     },
     "execution_count": 5,
     "metadata": {},
     "output_type": "execute_result"
    }
   ],
   "source": [
    "df = pd.concat(((swmmtoolbox.extract(outfile,['node',CSO_ids[i],variable]))for i in range(len(CSO_ids))),axis = 1)\n",
    "df.head()"
   ]
  },
  {
   "cell_type": "code",
   "execution_count": 6,
   "metadata": {},
   "outputs": [
    {
     "name": "stderr",
     "output_type": "stream",
     "text": [
      "C:\\Users\\magnu\\AppData\\Local\\Continuum\\anaconda3\\envs\\NOAH\\lib\\site-packages\\pandas\\plotting\\_matplotlib\\converter.py:103: FutureWarning: Using an implicitly registered datetime converter for a matplotlib plotting method. The converter was registered by pandas on import. Future versions of pandas will require you to explicitly register matplotlib converters.\n",
      "\n",
      "To register the converters:\n",
      "\t>>> from pandas.plotting import register_matplotlib_converters\n",
      "\t>>> register_matplotlib_converters()\n",
      "  warnings.warn(msg, FutureWarning)\n"
     ]
    },
    {
     "data": {
      "image/png": "[encoded data removed]",
      "text/plain": [
       "<Figure size 1008x432 with 1 Axes>"
      ]
     },
     "metadata": {
      "needs_background": "light"
     },
     "output_type": "display_data"
    }
   ],
   "source": [
    "size = 14 # fontsize\n",
    "\n",
    "plt.figure(figsize = (14,6))\n",
    "for i in range(len(CSO_ids)):\n",
    "    plt.plot(df.index,df.iloc[:,i],label =CSO_ids[i])\n",
    "plt.title('CSO volume during the simulation',fontsize = size+2)\n",
    "plt.xlabel('Time of simulation',fontsize = size)\n",
    "plt.xticks(fontsize = size-2)\n",
    "plt.ylabel(\"CSO volume from CSO-id's [CMS]\",fontsize = size)\n",
    "plt.yticks(fontsize = size-2)\n",
    "plt.legend()\n",
    "plt.show()"
   ]
  },
  {
   "cell_type": "markdown",
   "metadata": {},
   "source": [
    "## Computing CSO volume"
   ]
  },
  {
   "cell_type": "code",
   "execution_count": 7,
   "metadata": {},
   "outputs": [
    {
     "name": "stdout",
     "output_type": "stream",
     "text": [
      "Total CSO volume is 68514 m3\n",
      "\n",
      "For the different CSO-id's this is:\n",
      "The  CSO volume of T1 is 34436 m3\n",
      "The  CSO volume of T3 is 13690 m3\n",
      "The  CSO volume of T6 is 20388 m3\n"
     ]
    }
   ],
   "source": [
    "CSO_volumne = (df*timesteps).sum()\n",
    "total_CSO_volumne = CSO_volumne.sum()\n",
    "\n",
    "print('Total CSO volume is {:.0f} m3\\n'.format(total_CSO_volumne))\n",
    "print(\"For the different CSO-id's this is:\")\n",
    "for  i in range(len(CSO_ids)):\n",
    "    print('The  CSO volume of {} is {:.0f} m3'.format(CSO_ids[i],CSO_volumne[i]))"
   ]
  },
  {
   "cell_type": "markdown",
   "metadata": {},
   "source": [
    "From these results it can be seen how the first step of the optimization computes 10 different simulations and finds that the lowest one is at starting point 4.8. The flooding volume is here 69290 m3. <br> \n",
    "From here the optimization algorithms further reduces the CSO volume to 68514 m3. "
   ]
  },
  {
   "cell_type": "code",
   "execution_count": null,
   "metadata": {},
   "outputs": [],
   "source": []
  },
  {
   "cell_type": "code",
   "execution_count": null,
   "metadata": {},
   "outputs": [],
   "source": []
  },
  {
   "cell_type": "code",
   "execution_count": null,
   "metadata": {},
   "outputs": [],
   "source": []
  }
 ],
 "metadata": {
  "kernelspec": {
   "display_name": "Python 3",
   "language": "python",
   "name": "python3"
  },
  "language_info": {
   "codemirror_mode": {
    "name": "ipython",
    "version": 3
   },
   "file_extension": ".py",
   "mimetype": "text/x-python",
   "name": "python",
   "nbconvert_exporter": "python",
   "pygments_lexer": "ipython3",
   "version": "3.6.7"
  }
 },
 "nbformat": 4,
 "nbformat_minor": 2
}

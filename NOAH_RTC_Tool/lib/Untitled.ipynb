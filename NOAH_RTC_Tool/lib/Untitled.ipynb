{
 "cells": [
  {
   "cell_type": "code",
   "execution_count": 9,
   "metadata": {},
   "outputs": [],
   "source": [
    "import swmmtoolbox.swmmtoolbox as swmmtoolbox\n",
    "import matplotlib.pyplot as plt\n",
    "import numpy as np"
   ]
  },
  {
   "cell_type": "code",
   "execution_count": 11,
   "metadata": {},
   "outputs": [
    {
     "data": {
      "text/html": [
       "<div>\n",
       "<style scoped>\n",
       "    .dataframe tbody tr th:only-of-type {\n",
       "        vertical-align: middle;\n",
       "    }\n",
       "\n",
       "    .dataframe tbody tr th {\n",
       "        vertical-align: top;\n",
       "    }\n",
       "\n",
       "    .dataframe thead th {\n",
       "        text-align: right;\n",
       "    }\n",
       "</style>\n",
       "<table border=\"1\" class=\"dataframe\">\n",
       "  <thead>\n",
       "    <tr style=\"text-align: right;\">\n",
       "      <th></th>\n",
       "      <th>node_J1_Flow_lost_flooding</th>\n",
       "      <th>node_J3_Flow_lost_flooding</th>\n",
       "      <th>node_CSO7_Flow_lost_flooding</th>\n",
       "      <th>node_J5_Flow_lost_flooding</th>\n",
       "      <th>node_CSO9_Flow_lost_flooding</th>\n",
       "      <th>node_J8_Flow_lost_flooding</th>\n",
       "      <th>node_CSO8_Flow_lost_flooding</th>\n",
       "      <th>node_J10_Flow_lost_flooding</th>\n",
       "      <th>node_J13_Flow_lost_flooding</th>\n",
       "      <th>node_J15_Flow_lost_flooding</th>\n",
       "      <th>...</th>\n",
       "      <th>node_J7_Flow_lost_flooding</th>\n",
       "      <th>node_J11_Flow_lost_flooding</th>\n",
       "      <th>node_J18_Flow_lost_flooding</th>\n",
       "      <th>node_Out_to_WWTP_Flow_lost_flooding</th>\n",
       "      <th>node_T5_Flow_lost_flooding</th>\n",
       "      <th>node_T4_Flow_lost_flooding</th>\n",
       "      <th>node_T6_Flow_lost_flooding</th>\n",
       "      <th>node_T3_Flow_lost_flooding</th>\n",
       "      <th>node_T2_Flow_lost_flooding</th>\n",
       "      <th>node_T1_Flow_lost_flooding</th>\n",
       "    </tr>\n",
       "  </thead>\n",
       "  <tbody>\n",
       "    <tr>\n",
       "      <td>2000-05-01 00:05:00</td>\n",
       "      <td>0.0</td>\n",
       "      <td>0.0</td>\n",
       "      <td>0.0</td>\n",
       "      <td>0.0</td>\n",
       "      <td>0.0</td>\n",
       "      <td>0.0</td>\n",
       "      <td>0.0</td>\n",
       "      <td>0.0</td>\n",
       "      <td>0.0</td>\n",
       "      <td>0.0</td>\n",
       "      <td>...</td>\n",
       "      <td>0.0</td>\n",
       "      <td>0.0</td>\n",
       "      <td>0.0</td>\n",
       "      <td>0.0</td>\n",
       "      <td>0.0</td>\n",
       "      <td>0.0</td>\n",
       "      <td>0.0</td>\n",
       "      <td>0.0</td>\n",
       "      <td>0.0</td>\n",
       "      <td>0.0</td>\n",
       "    </tr>\n",
       "    <tr>\n",
       "      <td>2000-05-01 00:10:00</td>\n",
       "      <td>0.0</td>\n",
       "      <td>0.0</td>\n",
       "      <td>0.0</td>\n",
       "      <td>0.0</td>\n",
       "      <td>0.0</td>\n",
       "      <td>0.0</td>\n",
       "      <td>0.0</td>\n",
       "      <td>0.0</td>\n",
       "      <td>0.0</td>\n",
       "      <td>0.0</td>\n",
       "      <td>...</td>\n",
       "      <td>0.0</td>\n",
       "      <td>0.0</td>\n",
       "      <td>0.0</td>\n",
       "      <td>0.0</td>\n",
       "      <td>0.0</td>\n",
       "      <td>0.0</td>\n",
       "      <td>0.0</td>\n",
       "      <td>0.0</td>\n",
       "      <td>0.0</td>\n",
       "      <td>0.0</td>\n",
       "    </tr>\n",
       "    <tr>\n",
       "      <td>2000-05-01 00:15:00</td>\n",
       "      <td>0.0</td>\n",
       "      <td>0.0</td>\n",
       "      <td>0.0</td>\n",
       "      <td>0.0</td>\n",
       "      <td>0.0</td>\n",
       "      <td>0.0</td>\n",
       "      <td>0.0</td>\n",
       "      <td>0.0</td>\n",
       "      <td>0.0</td>\n",
       "      <td>0.0</td>\n",
       "      <td>...</td>\n",
       "      <td>0.0</td>\n",
       "      <td>0.0</td>\n",
       "      <td>0.0</td>\n",
       "      <td>0.0</td>\n",
       "      <td>0.0</td>\n",
       "      <td>0.0</td>\n",
       "      <td>0.0</td>\n",
       "      <td>0.0</td>\n",
       "      <td>0.0</td>\n",
       "      <td>0.0</td>\n",
       "    </tr>\n",
       "    <tr>\n",
       "      <td>2000-05-01 00:20:00</td>\n",
       "      <td>0.0</td>\n",
       "      <td>0.0</td>\n",
       "      <td>0.0</td>\n",
       "      <td>0.0</td>\n",
       "      <td>0.0</td>\n",
       "      <td>0.0</td>\n",
       "      <td>0.0</td>\n",
       "      <td>0.0</td>\n",
       "      <td>0.0</td>\n",
       "      <td>0.0</td>\n",
       "      <td>...</td>\n",
       "      <td>0.0</td>\n",
       "      <td>0.0</td>\n",
       "      <td>0.0</td>\n",
       "      <td>0.0</td>\n",
       "      <td>0.0</td>\n",
       "      <td>0.0</td>\n",
       "      <td>0.0</td>\n",
       "      <td>0.0</td>\n",
       "      <td>0.0</td>\n",
       "      <td>0.0</td>\n",
       "    </tr>\n",
       "    <tr>\n",
       "      <td>2000-05-01 00:25:00</td>\n",
       "      <td>0.0</td>\n",
       "      <td>0.0</td>\n",
       "      <td>0.0</td>\n",
       "      <td>0.0</td>\n",
       "      <td>0.0</td>\n",
       "      <td>0.0</td>\n",
       "      <td>0.0</td>\n",
       "      <td>0.0</td>\n",
       "      <td>0.0</td>\n",
       "      <td>0.0</td>\n",
       "      <td>...</td>\n",
       "      <td>0.0</td>\n",
       "      <td>0.0</td>\n",
       "      <td>0.0</td>\n",
       "      <td>0.0</td>\n",
       "      <td>0.0</td>\n",
       "      <td>0.0</td>\n",
       "      <td>0.0</td>\n",
       "      <td>0.0</td>\n",
       "      <td>0.0</td>\n",
       "      <td>0.0</td>\n",
       "    </tr>\n",
       "  </tbody>\n",
       "</table>\n",
       "<p>5 rows × 30 columns</p>\n",
       "</div>"
      ],
      "text/plain": [
       "                     node_J1_Flow_lost_flooding  node_J3_Flow_lost_flooding  \\\n",
       "2000-05-01 00:05:00                         0.0                         0.0   \n",
       "2000-05-01 00:10:00                         0.0                         0.0   \n",
       "2000-05-01 00:15:00                         0.0                         0.0   \n",
       "2000-05-01 00:20:00                         0.0                         0.0   \n",
       "2000-05-01 00:25:00                         0.0                         0.0   \n",
       "\n",
       "                     node_CSO7_Flow_lost_flooding  node_J5_Flow_lost_flooding  \\\n",
       "2000-05-01 00:05:00                           0.0                         0.0   \n",
       "2000-05-01 00:10:00                           0.0                         0.0   \n",
       "2000-05-01 00:15:00                           0.0                         0.0   \n",
       "2000-05-01 00:20:00                           0.0                         0.0   \n",
       "2000-05-01 00:25:00                           0.0                         0.0   \n",
       "\n",
       "                     node_CSO9_Flow_lost_flooding  node_J8_Flow_lost_flooding  \\\n",
       "2000-05-01 00:05:00                           0.0                         0.0   \n",
       "2000-05-01 00:10:00                           0.0                         0.0   \n",
       "2000-05-01 00:15:00                           0.0                         0.0   \n",
       "2000-05-01 00:20:00                           0.0                         0.0   \n",
       "2000-05-01 00:25:00                           0.0                         0.0   \n",
       "\n",
       "                     node_CSO8_Flow_lost_flooding  \\\n",
       "2000-05-01 00:05:00                           0.0   \n",
       "2000-05-01 00:10:00                           0.0   \n",
       "2000-05-01 00:15:00                           0.0   \n",
       "2000-05-01 00:20:00                           0.0   \n",
       "2000-05-01 00:25:00                           0.0   \n",
       "\n",
       "                     node_J10_Flow_lost_flooding  node_J13_Flow_lost_flooding  \\\n",
       "2000-05-01 00:05:00                          0.0                          0.0   \n",
       "2000-05-01 00:10:00                          0.0                          0.0   \n",
       "2000-05-01 00:15:00                          0.0                          0.0   \n",
       "2000-05-01 00:20:00                          0.0                          0.0   \n",
       "2000-05-01 00:25:00                          0.0                          0.0   \n",
       "\n",
       "                     node_J15_Flow_lost_flooding  ...  \\\n",
       "2000-05-01 00:05:00                          0.0  ...   \n",
       "2000-05-01 00:10:00                          0.0  ...   \n",
       "2000-05-01 00:15:00                          0.0  ...   \n",
       "2000-05-01 00:20:00                          0.0  ...   \n",
       "2000-05-01 00:25:00                          0.0  ...   \n",
       "\n",
       "                     node_J7_Flow_lost_flooding  node_J11_Flow_lost_flooding  \\\n",
       "2000-05-01 00:05:00                         0.0                          0.0   \n",
       "2000-05-01 00:10:00                         0.0                          0.0   \n",
       "2000-05-01 00:15:00                         0.0                          0.0   \n",
       "2000-05-01 00:20:00                         0.0                          0.0   \n",
       "2000-05-01 00:25:00                         0.0                          0.0   \n",
       "\n",
       "                     node_J18_Flow_lost_flooding  \\\n",
       "2000-05-01 00:05:00                          0.0   \n",
       "2000-05-01 00:10:00                          0.0   \n",
       "2000-05-01 00:15:00                          0.0   \n",
       "2000-05-01 00:20:00                          0.0   \n",
       "2000-05-01 00:25:00                          0.0   \n",
       "\n",
       "                     node_Out_to_WWTP_Flow_lost_flooding  \\\n",
       "2000-05-01 00:05:00                                  0.0   \n",
       "2000-05-01 00:10:00                                  0.0   \n",
       "2000-05-01 00:15:00                                  0.0   \n",
       "2000-05-01 00:20:00                                  0.0   \n",
       "2000-05-01 00:25:00                                  0.0   \n",
       "\n",
       "                     node_T5_Flow_lost_flooding  node_T4_Flow_lost_flooding  \\\n",
       "2000-05-01 00:05:00                         0.0                         0.0   \n",
       "2000-05-01 00:10:00                         0.0                         0.0   \n",
       "2000-05-01 00:15:00                         0.0                         0.0   \n",
       "2000-05-01 00:20:00                         0.0                         0.0   \n",
       "2000-05-01 00:25:00                         0.0                         0.0   \n",
       "\n",
       "                     node_T6_Flow_lost_flooding  node_T3_Flow_lost_flooding  \\\n",
       "2000-05-01 00:05:00                         0.0                         0.0   \n",
       "2000-05-01 00:10:00                         0.0                         0.0   \n",
       "2000-05-01 00:15:00                         0.0                         0.0   \n",
       "2000-05-01 00:20:00                         0.0                         0.0   \n",
       "2000-05-01 00:25:00                         0.0                         0.0   \n",
       "\n",
       "                     node_T2_Flow_lost_flooding  node_T1_Flow_lost_flooding  \n",
       "2000-05-01 00:05:00                         0.0                         0.0  \n",
       "2000-05-01 00:10:00                         0.0                         0.0  \n",
       "2000-05-01 00:15:00                         0.0                         0.0  \n",
       "2000-05-01 00:20:00                         0.0                         0.0  \n",
       "2000-05-01 00:25:00                         0.0                         0.0  \n",
       "\n",
       "[5 rows x 30 columns]"
      ]
     },
     "execution_count": 11,
     "metadata": {},
     "output_type": "execute_result"
    }
   ],
   "source": [
    "data = swmmtoolbox.extract('Astlingen.out',['node','','Flow_lost_flooding'])\n",
    "data.head()\n"
   ]
  },
  {
   "cell_type": "code",
   "execution_count": 16,
   "metadata": {},
   "outputs": [
    {
     "data": {
      "image/png": "[encoded data removed]",
      "text/plain": [
       "<Figure size 432x288 with 1 Axes>"
      ]
     },
     "metadata": {
      "needs_background": "light"
     },
     "output_type": "display_data"
    }
   ],
   "source": [
    "plt.plot(data['node_T6_Flow_lost_flooding'])\n",
    "plt.show()"
   ]
  },
  {
   "cell_type": "code",
   "execution_count": 19,
   "metadata": {},
   "outputs": [
    {
     "data": {
      "text/plain": [
       "0.0"
      ]
     },
     "execution_count": 19,
     "metadata": {},
     "output_type": "execute_result"
    }
   ],
   "source": [
    "data.iloc[1][1]"
   ]
  },
  {
   "cell_type": "code",
   "execution_count": 20,
   "metadata": {},
   "outputs": [
    {
     "name": "stderr",
     "output_type": "stream",
     "text": [
      "C:\\Users\\magnu\\AppData\\Local\\Continuum\\anaconda3\\envs\\NOAH\\lib\\site-packages\\ipykernel_launcher.py:1: SettingWithCopyWarning: \n",
      "A value is trying to be set on a copy of a slice from a DataFrame\n",
      "\n",
      "See the caveats in the documentation: http://pandas.pydata.org/pandas-docs/stable/user_guide/indexing.html#returning-a-view-versus-a-copy\n",
      "  \"\"\"Entry point for launching an IPython kernel.\n"
     ]
    }
   ],
   "source": [
    "data.iloc[1][1] = 1.0"
   ]
  },
  {
   "cell_type": "code",
   "execution_count": 21,
   "metadata": {},
   "outputs": [
    {
     "data": {
      "text/plain": [
       "0.0"
      ]
     },
     "execution_count": 21,
     "metadata": {},
     "output_type": "execute_result"
    }
   ],
   "source": [
    "data.iloc[1][1]"
   ]
  },
  {
   "cell_type": "code",
   "execution_count": null,
   "metadata": {},
   "outputs": [],
   "source": []
  }
 ],
 "metadata": {
  "kernelspec": {
   "display_name": "Python 3",
   "language": "python",
   "name": "python3"
  },
  "language_info": {
   "codemirror_mode": {
    "name": "ipython",
    "version": 3
   },
   "file_extension": ".py",
   "mimetype": "text/x-python",
   "name": "python",
   "nbconvert_exporter": "python",
   "pygments_lexer": "ipython3",
   "version": "3.6.7"
  }
 },
 "nbformat": 4,
 "nbformat_minor": 2
}
